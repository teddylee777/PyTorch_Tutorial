{
 "cells": [
  {
   "cell_type": "markdown",
   "metadata": {},
   "source": [
    "## 필요한 모듈 import"
   ]
  },
  {
   "cell_type": "code",
   "execution_count": 1,
   "metadata": {},
   "outputs": [],
   "source": [
    "import torch\n",
    "from torchvision import datasets, transforms"
   ]
  },
  {
   "cell_type": "markdown",
   "metadata": {},
   "source": [
    "## Transformation 설정"
   ]
  },
  {
   "cell_type": "code",
   "execution_count": 2,
   "metadata": {},
   "outputs": [],
   "source": [
    "# Transformation\n",
    "transform = transforms.Compose([\n",
    "    transforms.ToTensor(),               # Tensor로 변환\n",
    "    transforms.Normalize((0.5,), (0.5,)) # Normalize 적용. 1 Channel 인경우. 3 Channel 인경우 transforms.Normalize((0.5, 0.5, 0.5), (0.5, 0.5, 0.5))\n",
    "])"
   ]
  },
  {
   "cell_type": "markdown",
   "metadata": {},
   "source": [
    "## PyTorch 내장 샘플 데이터셋 로드"
   ]
  },
  {
   "cell_type": "markdown",
   "metadata": {},
   "source": [
    "- Download Path 설정\n",
    "- `download`: 다운로드 받을지 여부 설정\n",
    "- `train`: True로 설정한 경우는 training set. False인 경우 test set.\n",
    "- `transform`: transformation 적용"
   ]
  },
  {
   "cell_type": "markdown",
   "metadata": {},
   "source": [
    "[PyTorch 내장 데이터셋 리스트](https://pytorch.org/vision/stable/datasets.html)"
   ]
  },
  {
   "cell_type": "code",
   "execution_count": 3,
   "metadata": {},
   "outputs": [
    {
     "data": {
      "text/plain": [
       "['LSUN',\n",
       " 'LSUNClass',\n",
       " 'ImageFolder',\n",
       " 'DatasetFolder',\n",
       " 'CocoCaptions',\n",
       " 'CocoDetection',\n",
       " 'CIFAR10',\n",
       " 'CIFAR100',\n",
       " 'STL10',\n",
       " 'MNIST',\n",
       " 'EMNIST',\n",
       " 'FashionMNIST',\n",
       " 'KMNIST',\n",
       " 'QMNIST',\n",
       " 'SVHN',\n",
       " 'PhotoTour',\n",
       " 'FakeData',\n",
       " 'SEMEION',\n",
       " 'Omniglot',\n",
       " 'SBU',\n",
       " 'Flickr8k',\n",
       " 'Flickr30k',\n",
       " 'VOCSegmentation',\n",
       " 'VOCDetection',\n",
       " 'Cityscapes',\n",
       " 'ImageNet',\n",
       " 'Caltech101',\n",
       " 'Caltech256',\n",
       " 'CelebA',\n",
       " 'SBDataset',\n",
       " 'VisionDataset',\n",
       " 'USPS',\n",
       " 'Kinetics400',\n",
       " 'HMDB51',\n",
       " 'UCF101']"
      ]
     },
     "execution_count": 3,
     "metadata": {},
     "output_type": "execute_result"
    }
   ],
   "source": [
    "# PyTorch 내장 데이터셋 출력\n",
    "[d for d in datasets.__dir__() if d[0].isupper()]"
   ]
  },
  {
   "cell_type": "code",
   "execution_count": null,
   "metadata": {},
   "outputs": [
    {
     "name": "stdout",
     "output_type": "stream",
     "text": [
      "Downloading http://fashion-mnist.s3-website.eu-central-1.amazonaws.com/train-images-idx3-ubyte.gz to ./data/FashionMNIST/raw/train-images-idx3-ubyte.gz\n"
     ]
    },
    {
     "data": {
      "application/vnd.jupyter.widget-view+json": {
       "model_id": "c0afe2e07f5c48aea64463dd2e9209d6",
       "version_major": 2,
       "version_minor": 0
      },
      "text/plain": [
       "HBox(children=(FloatProgress(value=1.0, bar_style='info', max=1.0), HTML(value='')))"
      ]
     },
     "metadata": {},
     "output_type": "display_data"
    }
   ],
   "source": [
    "# Download and load the training data\n",
    "trainset = datasets.FashionMNIST('./data', download=True, train=True, transform=transform)\n",
    "testset = datasets.FashionMNIST('./data', download=True, train=False, transform=transform)"
   ]
  },
  {
   "cell_type": "markdown",
   "metadata": {},
   "source": [
    "## DataLoader 변환"
   ]
  },
  {
   "cell_type": "markdown",
   "metadata": {},
   "source": [
    "- 다운로드 및 로드한 데이터\n",
    "- `batch_size`: 배치 사이즈 정의\n",
    "- `shuffle`: 셔플 여부 설정"
   ]
  },
  {
   "cell_type": "code",
   "execution_count": null,
   "metadata": {},
   "outputs": [],
   "source": [
    "# DataLoader 변환\n",
    "trainloader = torch.utils.data.DataLoader(trainset, batch_size=32, shuffle=True)\n",
    "testloader = torch.utils.data.DataLoader(testset, batch_size=32, shuffle=True)"
   ]
  },
  {
   "cell_type": "code",
   "execution_count": null,
   "metadata": {},
   "outputs": [],
   "source": [
    "# 1개의 batch 선택\n",
    "image, label = next(iter(trainloader))"
   ]
  },
  {
   "cell_type": "code",
   "execution_count": null,
   "metadata": {},
   "outputs": [],
   "source": [
    "# shape 출력\n",
    "image.shape, label.shape"
   ]
  },
  {
   "cell_type": "markdown",
   "metadata": {},
   "source": [
    "## 10개의 데이터셋 시각화"
   ]
  },
  {
   "cell_type": "code",
   "execution_count": null,
   "metadata": {},
   "outputs": [],
   "source": [
    "import matplotlib.pyplot as plt\n",
    "\n",
    "fig, ax = plt.subplots(2, 5)\n",
    "fig.set_size_inches(12, 5)\n",
    "img = image.numpy()\n",
    "\n",
    "for i in range(10):\n",
    "    ax[i//5, i%5].imshow(img[i, 0])\n",
    "    ax[i//5, i%5].spines['top'].set_visible(False)\n",
    "    ax[i//5, i%5].spines['right'].set_visible(False)\n",
    "    ax[i//5, i%5].spines['left'].set_visible(False)\n",
    "    ax[i//5, i%5].spines['bottom'].set_visible(False)\n",
    "    ax[i//5, i%5].tick_params(axis='both', length=0)\n",
    "    ax[i//5, i%5].set_xticklabels('')\n",
    "    ax[i//5, i%5].set_yticklabels('')\n",
    "    ax[i//5, i%5].set_title(label[i].item())\n",
    "    \n",
    "plt.tight_layout()\n",
    "plt.show()"
   ]
  }
 ],
 "metadata": {
  "kernelspec": {
   "display_name": "Environment (conda_pytorch_p36)",
   "language": "python",
   "name": "conda_pytorch_p36"
  },
  "language_info": {
   "codemirror_mode": {
    "name": "ipython",
    "version": 3
   },
   "file_extension": ".py",
   "mimetype": "text/x-python",
   "name": "python",
   "nbconvert_exporter": "python",
   "pygments_lexer": "ipython3",
   "version": "3.6.5"
  }
 },
 "nbformat": 4,
 "nbformat_minor": 2
}
